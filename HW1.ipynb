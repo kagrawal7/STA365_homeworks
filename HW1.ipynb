{
  "cells": [
    {
      "cell_type": "markdown",
      "metadata": {
        "id": "2NRmFJi8RYus"
      },
      "source": [
        "Author: Kushagra Agrawal\n",
        "\n",
        "We want to estimate three different values of theta so that we can choose the best candidate. While the real theta will be initialized, for the purpose of this assignment we pretend not to know these values.\n",
        "\n",
        "We know that we can model our uncertainty in each parameter $\\theta_i$ with a posterior distribution which is proportional to the product of the likelihood and the prior. We can use the beta-binomial model from class to model this scenario. Our initial prior is the Uniform distribution, which is a special case of $\\text{Beta}(\\alpha, \\beta)$, with $\\alpha = \\beta = 1$. Our likelihood is a binomial distribution.\n",
        "\n",
        "In each round, we sample from each prior and pick the biggest variate; the option which corresponds to that variate will be our choice for the round. We then run a bernoulli experiment with the real corresponding theta value and record the variate (success or failure). The total number of successes and total number of attempts thus far are our two hyperparameters for the posterior distribution $\\text{Beta}(\\alpha + x, \\beta + n - x)$. Therefore we are able to update our belief regarding the underlyting distribution of the real parameter (as per the bayesian interpretation of probability).\n",
        "\n",
        "\n"
      ]
    },
    {
      "cell_type": "code",
      "execution_count": 12,
      "metadata": {
        "id": "q4JUROyjMZgL"
      },
      "outputs": [],
      "source": [
        "from scipy import stats\n",
        "import random\n",
        "import numpy as np\n",
        "np.random.seed(4653)"
      ]
    },
    {
      "cell_type": "code",
      "execution_count": 26,
      "metadata": {
        "id": "qQ_EnlmHld7l"
      },
      "outputs": [],
      "source": [
        "def run_experiment():\n",
        "    # run the whole experiment\n",
        "    # for the sake of simplicity i call the initial prior a \"posterior\"\n",
        "\n",
        "    for round_num in range(1, N + 1):\n",
        "        # get priors and decide between A, B, C\n",
        "        sample_thetas = [posteriors[\"A\"].rvs(), posteriors[\"B\"].rvs(), posteriors[\"C\"].rvs()]\n",
        "        inverse_dictionary = {sample_thetas[0]: \"A\", sample_thetas[1]: \"B\", sample_thetas[2]: \"C\",}\n",
        "        choice = inverse_dictionary[max(sample_thetas)]\n",
        "\n",
        "        # play the game and record result\n",
        "        x = stats.binom(1, real_thetas[choice]).rvs()\n",
        "        experiment_log[round_num] = {\"choice\": choice, \"variate\": x, \"samples\": sample_thetas}\n",
        "        results[choice].append(x)\n",
        "\n",
        "        # update\n",
        "        successes, n = sum(results[choice]), len(results[choice])\n",
        "        posteriors[choice] = stats.beta(a + successes, b + n - successes)\n",
        "\n",
        "\n",
        "a, b = 1, 1\n",
        "experiment_log = {}\n",
        "weights = {\"A\": 0, \"B\": 0, \"C\": 0}\n",
        "posteriors = {\"A\": stats.beta(a, b), \"B\": stats.beta(a, b), \"C\": stats.beta(a, b)}\n",
        "results = {\"A\": [], \"B\": [], \"C\": []}"
      ]
    },
    {
      "cell_type": "code",
      "execution_count": 27,
      "metadata": {
        "colab": {
          "base_uri": "https://localhost:8080/"
        },
        "id": "M9esLC8VGbve",
        "outputId": "d16de2e9-08dc-4b50-b2f6-fa9c1bcadf58"
      },
      "outputs": [
        {
          "name": "stdout",
          "output_type": "stream",
          "text": [
            "{1: {'choice': 'A', 'variate': 1, 'samples': [0.40947462984631017, 0.25851234310969745, 0.2856548873339922]}, 2: {'choice': 'A', 'variate': 0, 'samples': [0.5403304016225943, 0.04620726196658949, 0.2660971797487016]}, 3: {'choice': 'A', 'variate': 0, 'samples': [0.7852978885194163, 0.19295586903861878, 0.4524071008562129]}, 4: {'choice': 'C', 'variate': 0, 'samples': [0.641955605595595, 0.652375434959732, 0.7502250665314394]}, 5: {'choice': 'B', 'variate': 0, 'samples': [0.031557167261129254, 0.8116237343328222, 0.49038105189655284]}, 6: {'choice': 'B', 'variate': 0, 'samples': [0.1377647942806339, 0.45869119340421693, 0.015256300272038106]}, 7: {'choice': 'A', 'variate': 0, 'samples': [0.39547380022179296, 0.23001663217002394, 0.0887447168917213]}, 8: {'choice': 'A', 'variate': 0, 'samples': [0.7111029658271699, 0.06595534638346245, 0.04958184221334487]}, 9: {'choice': 'C', 'variate': 1, 'samples': [0.05854403064268278, 0.1270552083695496, 0.22857779990704155]}, 10: {'choice': 'C', 'variate': 1, 'samples': [0.23548400547739212, 0.6257407681247477, 0.795141260041647]}, 11: {'choice': 'C', 'variate': 1, 'samples': [0.14148825413528926, 0.09008408476928964, 0.6652210527743938]}, 12: {'choice': 'C', 'variate': 1, 'samples': [0.12442727264513, 0.34393073691650067, 0.9200513777653339]}, 13: {'choice': 'C', 'variate': 1, 'samples': [0.34510899840487136, 0.13030297482520728, 0.7900125043963699]}, 14: {'choice': 'C', 'variate': 1, 'samples': [0.1795094605381452, 0.05876639891181839, 0.7885016316963617]}, 15: {'choice': 'C', 'variate': 0, 'samples': [0.029157956250599876, 0.19712889925605054, 0.8714133859150525]}, 16: {'choice': 'C', 'variate': 1, 'samples': [0.29805095309418556, 0.06024053099131561, 0.8481976807278007]}, 17: {'choice': 'C', 'variate': 0, 'samples': [0.4771461456804459, 0.26854908164511515, 0.7866410017472536]}, 18: {'choice': 'C', 'variate': 1, 'samples': [0.5067738644054129, 0.600615938653246, 0.8426117395755202]}, 19: {'choice': 'C', 'variate': 0, 'samples': [0.14515183929702452, 0.02293461468398519, 0.7625517305837101]}, 20: {'choice': 'A', 'variate': 0, 'samples': [0.505055901641364, 0.05389688499113223, 0.3449605234840812]}, 21: {'choice': 'C', 'variate': 1, 'samples': [0.06849460621616364, 0.0705028081700128, 0.3706708653912711]}, 22: {'choice': 'C', 'variate': 1, 'samples': [0.22084396444508766, 0.10490812073804569, 0.8745310872751691]}, 23: {'choice': 'C', 'variate': 0, 'samples': [0.13745433793880724, 0.38890171969371723, 0.5706553354055909]}, 24: {'choice': 'C', 'variate': 0, 'samples': [0.06618784627905366, 0.237837972678602, 0.5471390563678199]}, 25: {'choice': 'C', 'variate': 0, 'samples': [0.23511383079462622, 0.015211479628183356, 0.5926158219757575]}, 26: {'choice': 'C', 'variate': 1, 'samples': [0.18709446675056238, 0.06996968357267787, 0.6752458893331239]}, 27: {'choice': 'C', 'variate': 1, 'samples': [0.289760100217259, 0.2840296744144197, 0.6243670849899143]}, 28: {'choice': 'C', 'variate': 0, 'samples': [0.46494875010873277, 0.5258097731241104, 0.7552336292894719]}, 29: {'choice': 'C', 'variate': 1, 'samples': [0.18792690228522996, 0.015969507479789362, 0.5627383417602236]}, 30: {'choice': 'C', 'variate': 1, 'samples': [0.11958574368872059, 0.12858558482514115, 0.5968873310756776]}, 31: {'choice': 'B', 'variate': 0, 'samples': [0.3343082994698026, 0.7050217398439882, 0.6443853771945981]}, 32: {'choice': 'C', 'variate': 0, 'samples': [0.17239187145040316, 0.17825233662645917, 0.3736996692137991]}, 33: {'choice': 'C', 'variate': 0, 'samples': [0.1635393566940095, 0.40514499051854386, 0.6346595912348424]}, 34: {'choice': 'A', 'variate': 0, 'samples': [0.774351876848607, 0.09723872425279981, 0.4849459467875307]}, 35: {'choice': 'C', 'variate': 0, 'samples': [0.11965391369890871, 0.006569224268401462, 0.7028491473162792]}, 36: {'choice': 'C', 'variate': 1, 'samples': [0.0674649411913749, 0.0555584583542765, 0.5844659883755962]}, 37: {'choice': 'C', 'variate': 1, 'samples': [0.019678254898883574, 0.05554650641057847, 0.6523912117047221]}, 38: {'choice': 'C', 'variate': 0, 'samples': [0.13501997060904503, 0.2856171335446186, 0.6196525787126168]}, 39: {'choice': 'C', 'variate': 0, 'samples': [0.2758176259360997, 0.20790432579190973, 0.5374240858082027]}, 40: {'choice': 'C', 'variate': 0, 'samples': [0.1341067988745227, 0.11459802975749973, 0.5315291406868007]}, 41: {'choice': 'C', 'variate': 0, 'samples': [0.14524215293048914, 0.01752678498874967, 0.46397267910986445]}, 42: {'choice': 'C', 'variate': 1, 'samples': [0.3017904190083892, 0.225012370922883, 0.6898637330672492]}, 43: {'choice': 'B', 'variate': 0, 'samples': [0.301350377203629, 0.6262105569080181, 0.5587493122756007]}, 44: {'choice': 'C', 'variate': 1, 'samples': [0.19623560859413042, 0.23839299161331634, 0.565106971137175]}, 45: {'choice': 'C', 'variate': 0, 'samples': [0.34752115160847175, 0.13988361347949135, 0.5158019476103323]}, 46: {'choice': 'C', 'variate': 0, 'samples': [0.21887326900862175, 0.1340881777396782, 0.3682953285203706]}, 47: {'choice': 'C', 'variate': 1, 'samples': [0.08318064220763954, 0.13089816218174197, 0.6942571815106022]}, 48: {'choice': 'C', 'variate': 1, 'samples': [0.23983355216975805, 0.10412302402302019, 0.4395105710390356]}, 49: {'choice': 'C', 'variate': 1, 'samples': [0.20225160412818702, 0.15676369790348035, 0.48192541091378577]}, 50: {'choice': 'C', 'variate': 1, 'samples': [0.3907233963545252, 0.16268527994530013, 0.5078543341413196]}, 51: {'choice': 'C', 'variate': 0, 'samples': [0.5005873713940812, 0.3904077271217327, 0.5992793283477101]}, 52: {'choice': 'C', 'variate': 1, 'samples': [0.15276971712146334, 0.04991915784424216, 0.6092144240248476]}, 53: {'choice': 'C', 'variate': 1, 'samples': [0.508877323676044, 0.20624365319723276, 0.6267684915941882]}, 54: {'choice': 'C', 'variate': 0, 'samples': [0.271778141511287, 0.05168327001376337, 0.5887945148438855]}, 55: {'choice': 'C', 'variate': 0, 'samples': [0.37592949906957746, 0.15751060636963893, 0.5757558064536976]}, 56: {'choice': 'C', 'variate': 1, 'samples': [0.13926213993524048, 0.4287189998420913, 0.5950841441554535]}, 57: {'choice': 'C', 'variate': 1, 'samples': [0.22248221100316232, 0.04600923021898738, 0.5434861097448814]}, 58: {'choice': 'C', 'variate': 1, 'samples': [0.3540971882223418, 0.13444298499316684, 0.5785784841938573]}, 59: {'choice': 'C', 'variate': 1, 'samples': [0.11714621598543093, 0.04381829555627019, 0.5851470744333908]}, 60: {'choice': 'C', 'variate': 1, 'samples': [0.10620213776173369, 0.09038326763238237, 0.5615223271337062]}, 61: {'choice': 'C', 'variate': 1, 'samples': [0.19036925719869496, 0.08808982043725856, 0.5545468895867184]}, 62: {'choice': 'C', 'variate': 1, 'samples': [0.3514807660575294, 0.1992902226477767, 0.6522929829407011]}, 63: {'choice': 'C', 'variate': 0, 'samples': [0.11695470775296608, 0.0126345539803447, 0.652008365128168]}, 64: {'choice': 'C', 'variate': 1, 'samples': [0.344622789899318, 0.12537697277317422, 0.5635836837310461]}, 65: {'choice': 'C', 'variate': 0, 'samples': [0.29549626042909327, 0.01928651804498326, 0.5380441633815751]}, 66: {'choice': 'C', 'variate': 1, 'samples': [0.4804483877370544, 0.08845839793244792, 0.6434336951935665]}, 67: {'choice': 'C', 'variate': 1, 'samples': [0.22103077280878478, 0.09246168751716433, 0.5763816018622565]}, 68: {'choice': 'C', 'variate': 0, 'samples': [0.05155603065668851, 0.10168823668829781, 0.661428605512994]}, 69: {'choice': 'C', 'variate': 1, 'samples': [0.040993296238934065, 0.055699490169738776, 0.6508371509575218]}, 70: {'choice': 'C', 'variate': 0, 'samples': [0.19696492697565512, 0.11513605661205926, 0.588196418654384]}, 71: {'choice': 'C', 'variate': 0, 'samples': [0.5279469002762971, 0.34421372785241094, 0.6187725427351486]}, 72: {'choice': 'C', 'variate': 1, 'samples': [0.16437786016508377, 0.004250694908088696, 0.4614942915692382]}, 73: {'choice': 'C', 'variate': 1, 'samples': [0.07910817842533183, 0.14245434012916142, 0.5317374732539181]}, 74: {'choice': 'C', 'variate': 1, 'samples': [0.28705843234059525, 0.3413552274513425, 0.5955866038576718]}, 75: {'choice': 'B', 'variate': 1, 'samples': [0.1576649675870069, 0.6654895379371025, 0.6311596790307836]}, 76: {'choice': 'C', 'variate': 1, 'samples': [0.10749103680099592, 0.14216969788368317, 0.5135064913994831]}, 77: {'choice': 'C', 'variate': 1, 'samples': [0.37049928962282724, 0.19051460713462573, 0.6594519986448736]}, 78: {'choice': 'C', 'variate': 1, 'samples': [0.07219520987375777, 0.4450596775607379, 0.5695616416260592]}, 79: {'choice': 'C', 'variate': 0, 'samples': [0.20162275952359682, 0.19653115306036997, 0.6514165784340672]}, 80: {'choice': 'C', 'variate': 1, 'samples': [0.09202504561313027, 0.1374140719158693, 0.6116087454857406]}, 81: {'choice': 'C', 'variate': 1, 'samples': [0.3482648805694353, 0.027952545452149792, 0.5805562414225314]}, 82: {'choice': 'C', 'variate': 1, 'samples': [0.1386408899197719, 0.20262963771404588, 0.6400552228376093]}, 83: {'choice': 'C', 'variate': 0, 'samples': [0.030399422588452324, 0.09507303140058232, 0.651067050287932]}, 84: {'choice': 'C', 'variate': 0, 'samples': [0.2825656134265154, 0.15833577244380184, 0.5742181355344446]}, 85: {'choice': 'C', 'variate': 0, 'samples': [0.32346471108125785, 0.17031315754970422, 0.5081164363765963]}, 86: {'choice': 'C', 'variate': 1, 'samples': [0.13323615037364991, 0.3117575815819942, 0.5345741135503319]}, 87: {'choice': 'C', 'variate': 1, 'samples': [0.3020016996310678, 0.380345922053553, 0.6196454939116456]}, 88: {'choice': 'C', 'variate': 1, 'samples': [0.34317281548257506, 0.34823709276615644, 0.5992381168370483]}, 89: {'choice': 'C', 'variate': 0, 'samples': [0.146861354872907, 0.14879376429013438, 0.7536323078245305]}, 90: {'choice': 'C', 'variate': 0, 'samples': [0.0041589527313226834, 0.17893186055963595, 0.5295551335064488]}, 91: {'choice': 'C', 'variate': 1, 'samples': [0.16679502921518805, 0.3722891701629211, 0.5928379764651179]}, 92: {'choice': 'C', 'variate': 1, 'samples': [0.2046315562919578, 0.24844101662542029, 0.5639371047396279]}, 93: {'choice': 'C', 'variate': 0, 'samples': [0.0824799982835452, 0.19222402135132027, 0.5318116603606015]}, 94: {'choice': 'C', 'variate': 1, 'samples': [0.180333561005276, 0.04285380513132332, 0.6144498105242812]}, 95: {'choice': 'C', 'variate': 0, 'samples': [0.4490617244759666, 0.14417357814164022, 0.6546671700697361]}, 96: {'choice': 'C', 'variate': 1, 'samples': [0.14983155347091345, 0.14279740188962473, 0.656420193307972]}, 97: {'choice': 'C', 'variate': 1, 'samples': [0.15706441526266054, 0.2035777511824736, 0.6631437678222801]}, 98: {'choice': 'C', 'variate': 1, 'samples': [0.14945144423003445, 0.4132506885663035, 0.6068597955451223]}, 99: {'choice': 'C', 'variate': 1, 'samples': [0.07340846175439869, 0.11867286530862191, 0.5971358995726499]}, 100: {'choice': 'C', 'variate': 1, 'samples': [0.12743578193292907, 0.11641527581306224, 0.601852796804239]}}\n",
            "(0.2222222222222222, 0.01728395061728395)\n",
            "(0.2857142857142857, 0.025510204081632654)\n",
            "(0.6222222222222222, 0.00258309591642925)\n"
          ]
        }
      ],
      "source": [
        "N = 100\n",
        "real_thetas = {\"A\": 0.3, \"B\": 0.4, \"C\": 0.5}\n",
        "run_experiment()\n",
        "\n",
        "for i in range(1, N+1):\n",
        "    print(\"Round \" + str(i) + \" :\")\n",
        "    print(experiment_log[i])\n",
        "    print(\"\\n\")\n",
        "print(\"final posteriors:\")\n",
        "for letter in posteriors:\n",
        "    print(posteriors[letter].stats(moments='mv'))"
      ]
    }
  ],
  "metadata": {
    "colab": {
      "provenance": []
    },
    "kernelspec": {
      "display_name": "Python 3",
      "name": "python3"
    },
    "language_info": {
      "name": "python"
    }
  },
  "nbformat": 4,
  "nbformat_minor": 0
}
